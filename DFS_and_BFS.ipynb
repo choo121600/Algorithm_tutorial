{
 "cells": [
  {
   "cell_type": "markdown",
   "id": "d6c0f8a0",
   "metadata": {},
   "source": [
    "# DFS & BFS"
   ]
  },
  {
   "cell_type": "markdown",
   "id": "5617d769",
   "metadata": {},
   "source": [
    "## 설명"
   ]
  },
  {
   "cell_type": "markdown",
   "id": "cae2b427",
   "metadata": {},
   "source": [
    "* 탐색이란 많은 양의 데이터 중에서 원하는 데이터를 찾는 과정이다.\n",
    "* 대표적인 그래프 탐색 알고리즘으로 DFS와 BFS가 있다."
   ]
  },
  {
   "cell_type": "markdown",
   "id": "93a39ecb",
   "metadata": {},
   "source": [
    "## 배경 지식"
   ]
  },
  {
   "cell_type": "markdown",
   "id": "61f9ab99",
   "metadata": {},
   "source": [
    "### Stack"
   ]
  },
  {
   "cell_type": "markdown",
   "id": "cd93d122",
   "metadata": {},
   "source": [
    "* 먼저 들어온 데이터가 나중에 나가는 형식"
   ]
  },
  {
   "cell_type": "code",
   "execution_count": 2,
   "id": "3adc8fac",
   "metadata": {
    "ExecuteTime": {
     "end_time": "2021-08-03T10:29:29.552127Z",
     "start_time": "2021-08-03T10:29:29.540155Z"
    }
   },
   "outputs": [
    {
     "name": "stdout",
     "output_type": "stream",
     "text": [
      "[1, 3]\n"
     ]
    }
   ],
   "source": [
    "stack = []\n",
    "\n",
    "stack.append(1)\n",
    "stack.append(2)\n",
    "stack.pop()\n",
    "stack.append(3)\n",
    "stack.append(4)\n",
    "stack.pop()\n",
    "\n",
    "print(stack)"
   ]
  },
  {
   "cell_type": "markdown",
   "id": "de706b63",
   "metadata": {},
   "source": [
    "### Queue"
   ]
  },
  {
   "cell_type": "markdown",
   "id": "06695730",
   "metadata": {},
   "source": [
    "* 먼저 들어온 데이터가 먼저 나가는 형식"
   ]
  },
  {
   "cell_type": "code",
   "execution_count": 3,
   "id": "19579b25",
   "metadata": {
    "ExecuteTime": {
     "end_time": "2021-08-03T10:35:19.542157Z",
     "start_time": "2021-08-03T10:35:19.529192Z"
    }
   },
   "outputs": [
    {
     "name": "stdout",
     "output_type": "stream",
     "text": [
      "deque([3, 4])\n"
     ]
    }
   ],
   "source": [
    "from collections import deque\n",
    "\n",
    "queue = deque()\n",
    "\n",
    "queue.append(1)\n",
    "queue.append(2)\n",
    "queue.popleft()\n",
    "queue.append(3)\n",
    "queue.append(4)\n",
    "queue.popleft()\n",
    "\n",
    "print(queue)"
   ]
  },
  {
   "cell_type": "markdown",
   "id": "1ac52d87",
   "metadata": {},
   "source": [
    "### 재귀 함수 (Recursive Function)"
   ]
  },
  {
   "cell_type": "markdown",
   "id": "a6568cc1",
   "metadata": {},
   "source": [
    "* 자기 자신을 다시 호출하는 함수"
   ]
  },
  {
   "cell_type": "code",
   "execution_count": 4,
   "id": "805ab105",
   "metadata": {
    "ExecuteTime": {
     "end_time": "2021-08-03T13:07:10.507100Z",
     "start_time": "2021-08-03T13:07:06.918136Z"
    }
   },
   "outputs": [
    {
     "name": "stdout",
     "output_type": "stream",
     "text": [
      "5\n",
      "120\n"
     ]
    }
   ],
   "source": [
    "N = int(input())\n",
    "def fac(N):\n",
    "    if N <= 1:\n",
    "        return 1\n",
    "    return N * fac(N-1)\n",
    "\n",
    "print(fac(N))"
   ]
  }
 ],
 "metadata": {
  "kernelspec": {
   "display_name": "Python 3",
   "language": "python",
   "name": "python3"
  },
  "language_info": {
   "codemirror_mode": {
    "name": "ipython",
    "version": 3
   },
   "file_extension": ".py",
   "mimetype": "text/x-python",
   "name": "python",
   "nbconvert_exporter": "python",
   "pygments_lexer": "ipython3",
   "version": "3.9.5"
  },
  "toc": {
   "base_numbering": 1,
   "nav_menu": {},
   "number_sections": true,
   "sideBar": true,
   "skip_h1_title": false,
   "title_cell": "Table of Contents",
   "title_sidebar": "Contents",
   "toc_cell": false,
   "toc_position": {},
   "toc_section_display": true,
   "toc_window_display": false
  },
  "varInspector": {
   "cols": {
    "lenName": 16,
    "lenType": 16,
    "lenVar": 40
   },
   "kernels_config": {
    "python": {
     "delete_cmd_postfix": "",
     "delete_cmd_prefix": "del ",
     "library": "var_list.py",
     "varRefreshCmd": "print(var_dic_list())"
    },
    "r": {
     "delete_cmd_postfix": ") ",
     "delete_cmd_prefix": "rm(",
     "library": "var_list.r",
     "varRefreshCmd": "cat(var_dic_list()) "
    }
   },
   "types_to_exclude": [
    "module",
    "function",
    "builtin_function_or_method",
    "instance",
    "_Feature"
   ],
   "window_display": false
  }
 },
 "nbformat": 4,
 "nbformat_minor": 5
}
